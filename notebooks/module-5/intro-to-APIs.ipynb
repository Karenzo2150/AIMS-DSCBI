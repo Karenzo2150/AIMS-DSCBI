{
 "cells": [
  {
   "cell_type": "markdown",
   "metadata": {
    "id": "WioWyjbZy1Y8"
   },
   "source": [
    "\n",
    "# Accessing APIs\n",
    "\n",
    "## Introduction\n",
    "\n",
    "This notebook will guide you through the fundamentals of accessing and working with web APIs using Python. APIs (Application Programming Interfaces) are essential tools for modern data science, allowing you to access real-time data from countless sources including government databases, weather services, financial markets, and research institutions.\n",
    "\n",
    "We'll work with real-world APIs to gather data about Rwanda, demonstrating practical techniques you can apply to any data science project. You'll learn to handle different types of APIs, from completely free services to those requiring authentication, while following professional best practices.\n",
    "\n",
    "### Why This Matters\n",
    "\n",
    "APIs are everywhere in modern data science. Whether you're building economic analysis dashboards, environmental monitoring systems, or social research platforms, the ability to programmatically access external data sources is crucial. This workshop teaches you not just how to make API calls, but how to do so reliably, ethically, and professionally.\n",
    "\n",
    "## Learning Outcomes\n",
    "\n",
    "By the end of this workshop, you will be able to:\n",
    "\n",
    "1. **Make successful API requests** using Python's `requests` library, handling different authentication methods and response formats\n",
    "2. **Process and analyze JSON data** returned by APIs, converting it into pandas DataFrames for further analysis\n",
    "3. **Implement professional practices** including error handling, rate limiting, retry logic, and proper credential management\n",
    "4. **Work with multiple API types** from free government APIs to commercial services requiring API keys\n",
    "5. **Combine data from multiple sources** to create comprehensive datasets for analysis\n",
    "\n",
    "---"
   ]
  },
  {
   "cell_type": "markdown",
   "metadata": {
    "id": "rnDTWGbVy1ZA"
   },
   "source": [
    "# Python Setup\n",
    "Lets make sure we import the required libraries"
   ]
  },
  {
   "cell_type": "code",
   "execution_count": null,
   "metadata": {
    "executionInfo": {
     "elapsed": 1308,
     "status": "ok",
     "timestamp": 1676355712059,
     "user": {
      "displayName": "Michael Nana Kameni",
      "userId": "10368762142761029516"
     },
     "user_tz": -60
    },
    "id": "90gISwGey1ZA"
   },
   "outputs": [
    {
     "data": {
      "text/plain": [
       "True"
      ]
     },
     "execution_count": 6,
     "metadata": {},
     "output_type": "execute_result"
    }
   ],
   "source": [
    "import os\n",
    "from dotenv import load_dotenv\n",
    "import requests\n",
    "from matplotlib.pyplot import figure\n",
    "import matplotlib.pyplot as plt\n",
    "import pandas as pd\n",
    "import json\n",
    "from IPython.display import Image\n",
    "\n",
    "load_dotenv() # take environment variables from .env. file"
   ]
  },
  {
   "cell_type": "markdown",
   "metadata": {
    "id": "P1OgIEvYy1ZC"
   },
   "source": [
    "# Accessing a Useless API Just to Learn\n",
    "The [Open Notify API](http://open-notify.org) is an open source project to provide a simple programming interface for some of NASA’s data related\n",
    "space and spacecrafts. Even though this is a toy example, the process of using APIs is similar for any \n",
    "API you will need to access in the future. For this tutorial, the task is to find the latest position of the Internation Space Station(ISS)"
   ]
  },
  {
   "cell_type": "markdown",
   "metadata": {
    "id": "jtGizhjMy1ZE"
   },
   "source": [
    "## Understanding The API\n",
    "As mentioned during the introductory lecture, its important to read the API documentation \n",
    "and understand the available **endpoints**. Also, to determine the exact endpoint for the data we are interested in getting.\n",
    "- **Base URL:** For this API, the base url is: ```http://api.open-notify.org```. So, our full url which we will pass to requests will be ```base-url + endpoint```\n",
    "- **Available Endpoints/Data:** You can check [here](http://open-notify.org/Open-Notify-API/) for avaible endpoints\n",
    "- **Target Endpoint:** For our task, the endpoint is ```iss-now.json```"
   ]
  },
  {
   "cell_type": "markdown",
   "metadata": {
    "id": "TIhr_FqXy1ZE"
   },
   "source": [
    "## Making the Request\n",
    "Now, lets request for the data. We create a simple function which makes the requests \n",
    "and prints the status code to see if we got a good result."
   ]
  },
  {
   "cell_type": "code",
   "execution_count": 10,
   "metadata": {
    "executionInfo": {
     "elapsed": 2,
     "status": "ok",
     "timestamp": 1676355720957,
     "user": {
      "displayName": "Michael Nana Kameni",
      "userId": "10368762142761029516"
     },
     "user_tz": -60
    },
    "id": "2W26MBZDy1ZF"
   },
   "outputs": [],
   "source": [
    "#entry point for the API\n",
    "base_url = 'http://api.open-notify.org/'"
   ]
  },
  {
   "cell_type": "code",
   "execution_count": 11,
   "metadata": {
    "executionInfo": {
     "elapsed": 4,
     "status": "ok",
     "timestamp": 1676355724874,
     "user": {
      "displayName": "Michael Nana Kameni",
      "userId": "10368762142761029516"
     },
     "user_tz": -60
    },
    "id": "JIdqHoHty1ZF"
   },
   "outputs": [],
   "source": [
    "# endpoint for current position of ISS\n",
    "pos_now = 'iss-now.json'"
   ]
  },
  {
   "cell_type": "code",
   "execution_count": 12,
   "metadata": {
    "colab": {
     "base_uri": "https://localhost:8080/",
     "height": 35
    },
    "executionInfo": {
     "elapsed": 454,
     "status": "ok",
     "timestamp": 1676355734562,
     "user": {
      "displayName": "Michael Nana Kameni",
      "userId": "10368762142761029516"
     },
     "user_tz": -60
    },
    "id": "-av0o7kVy1ZG",
    "outputId": "b028759b-c0ae-4f79-e6a3-07e3813f5e88"
   },
   "outputs": [
    {
     "data": {
      "text/plain": [
       "'http://api.open-notify.org/iss-now.json'"
      ]
     },
     "execution_count": 12,
     "metadata": {},
     "output_type": "execute_result"
    }
   ],
   "source": [
    "# base_url + endpoint = full url which we can use in requests.\n",
    "full_url = base_url + pos_now\n",
    "full_url"
   ]
  },
  {
   "cell_type": "code",
   "execution_count": 13,
   "metadata": {
    "executionInfo": {
     "elapsed": 545,
     "status": "ok",
     "timestamp": 1676355741426,
     "user": {
      "displayName": "Michael Nana Kameni",
      "userId": "10368762142761029516"
     },
     "user_tz": -60
    },
    "id": "UGG5bl2ry1ZH"
   },
   "outputs": [
    {
     "name": "stdout",
     "output_type": "stream",
     "text": [
      "200\n"
     ]
    }
   ],
   "source": [
    "# Make a request using requests package\n",
    "response = requests.get(full_url)\n",
    "print(response.status_code)"
   ]
  },
  {
   "cell_type": "code",
   "execution_count": 14,
   "metadata": {
    "colab": {
     "base_uri": "https://localhost:8080/"
    },
    "executionInfo": {
     "elapsed": 3,
     "status": "ok",
     "timestamp": 1676355744242,
     "user": {
      "displayName": "Michael Nana Kameni",
      "userId": "10368762142761029516"
     },
     "user_tz": -60
    },
    "id": "FiUgfAgey1ZI",
    "outputId": "6a681363-ad39-4532-b54d-a508682efcf1"
   },
   "outputs": [
    {
     "data": {
      "text/plain": [
       "200"
      ]
     },
     "execution_count": 14,
     "metadata": {},
     "output_type": "execute_result"
    }
   ],
   "source": [
    "# Check the status code for response received\n",
    "# 200 means everything is OK\n",
    "response.status_code"
   ]
  },
  {
   "cell_type": "markdown",
   "metadata": {
    "id": "F3N7CM4Py1ZI"
   },
   "source": [
    "## Use json() to retrieve the json object/data"
   ]
  },
  {
   "cell_type": "code",
   "execution_count": 15,
   "metadata": {
    "colab": {
     "base_uri": "https://localhost:8080/"
    },
    "executionInfo": {
     "elapsed": 554,
     "status": "ok",
     "timestamp": 1676355751619,
     "user": {
      "displayName": "Michael Nana Kameni",
      "userId": "10368762142761029516"
     },
     "user_tz": -60
    },
    "id": "4iW9ywixy1ZJ",
    "outputId": "88bbbba3-6dd1-4e71-f481-c1e8037d2937"
   },
   "outputs": [
    {
     "name": "stdout",
     "output_type": "stream",
     "text": [
      "{'message': 'success', 'iss_position': {'longitude': '87.2369', 'latitude': '48.3381'}, 'timestamp': 1758112413}\n"
     ]
    },
    {
     "data": {
      "text/plain": [
       "(None, dict)"
      ]
     },
     "execution_count": 15,
     "metadata": {},
     "output_type": "execute_result"
    }
   ],
   "source": [
    "# Get the data\n",
    "dict_obj_from_json = response.json()\n",
    "type(dict_obj_from_json)\n",
    "print(dict_obj_from_json),type(dict_obj_from_json)"
   ]
  },
  {
   "cell_type": "code",
   "execution_count": 16,
   "metadata": {},
   "outputs": [
    {
     "data": {
      "text/plain": [
       "dict_keys(['message', 'iss_position', 'timestamp'])"
      ]
     },
     "execution_count": 16,
     "metadata": {},
     "output_type": "execute_result"
    }
   ],
   "source": [
    "dict_obj_from_json.keys()"
   ]
  },
  {
   "cell_type": "code",
   "execution_count": null,
   "metadata": {
    "colab": {
     "base_uri": "https://localhost:8080/"
    },
    "executionInfo": {
     "elapsed": 472,
     "status": "ok",
     "timestamp": 1676355792404,
     "user": {
      "displayName": "Michael Nana Kameni",
      "userId": "10368762142761029516"
     },
     "user_tz": -60
    },
    "id": "If79Qft-y1ZJ",
    "outputId": "da8e8f38-baf9-483e-b8fd-a98d33768179"
   },
   "outputs": [
    {
     "data": {
      "text/plain": [
       "{'longitude': '87.2369', 'latitude': '48.3381'}"
      ]
     },
     "execution_count": 17,
     "metadata": {},
     "output_type": "execute_result"
    }
   ],
   "source": [
    "# Get the components of elements of the dictionary\n",
    "#longitude, latitude and timestamp\n",
    "timestamp = dict_obj_from_json['timestamp']\n",
    "geo_info = dict_obj_from_json['iss_position']\n",
    "geo_info"
   ]
  },
  {
   "cell_type": "code",
   "execution_count": null,
   "metadata": {
    "colab": {
     "base_uri": "https://localhost:8080/"
    },
    "executionInfo": {
     "elapsed": 304,
     "status": "ok",
     "timestamp": 1676355802552,
     "user": {
      "displayName": "Michael Nana Kameni",
      "userId": "10368762142761029516"
     },
     "user_tz": -60
    },
    "id": "wDUomxYWy1ZK",
    "outputId": "13398c09-ace8-4c24-ab4a-b421a7aa7633"
   },
   "outputs": [],
   "source": [
    "lon = geo_info['longitude']\n",
    "print(lon)\n",
    "lat = geo_info['latitude']\n",
    "print(lat)"
   ]
  },
  {
   "cell_type": "code",
   "execution_count": null,
   "metadata": {
    "colab": {
     "base_uri": "https://localhost:8080/"
    },
    "executionInfo": {
     "elapsed": 452,
     "status": "ok",
     "timestamp": 1676355809727,
     "user": {
      "displayName": "Michael Nana Kameni",
      "userId": "10368762142761029516"
     },
     "user_tz": -60
    },
    "id": "IRGRizV5y1ZK",
    "outputId": "c06f3727-2c96-4b22-9c6f-e59ddc452ccf"
   },
   "outputs": [],
   "source": [
    "geo_info = dict_obj_from_json['iss_position']\n",
    "lon = geo_info['longitude']\n",
    "lat = geo_info['latitude']\n",
    "print(lat,'--', lon)"
   ]
  },
  {
   "cell_type": "code",
   "execution_count": null,
   "metadata": {
    "colab": {
     "base_uri": "https://localhost:8080/"
    },
    "executionInfo": {
     "elapsed": 324,
     "status": "ok",
     "timestamp": 1676355852267,
     "user": {
      "displayName": "Michael Nana Kameni",
      "userId": "10368762142761029516"
     },
     "user_tz": -60
    },
    "id": "AUiikw8ay1ZL",
    "outputId": "e97cd0fe-db3b-44b7-ab5e-f3b7450d8cd3"
   },
   "outputs": [],
   "source": [
    "base_url = 'http://api.open-notify.org/'\n",
    "#endpoint for current position of ISS\n",
    "pos_now = 'iss-now.json'\n",
    "# Full url\n",
    "full_url = base_url + pos_now\n",
    "\n",
    "\n",
    "# Make a request using requests package\n",
    "r = requests.get(full_url)\n",
    "\n",
    "# Get the data\n",
    "dict_obj_from_json = r.json()\n",
    "\n",
    "# Extract Lat/Lon\n",
    "geo_info = dict_obj_from_json['iss_position']\n",
    "lon = geo_info['longitude']\n",
    "lat = geo_info['latitude']\n",
    "print(lat,'--', lon)"
   ]
  },
  {
   "cell_type": "code",
   "execution_count": null,
   "metadata": {
    "code_folding": [
     0
    ],
    "executionInfo": {
     "elapsed": 397,
     "status": "ok",
     "timestamp": 1676355873977,
     "user": {
      "displayName": "Michael Nana Kameni",
      "userId": "10368762142761029516"
     },
     "user_tz": -60
    },
    "id": "7tld9iMgy1ZM"
   },
   "outputs": [],
   "source": [
    "def request_iss_position(endpoint_url=None):\n",
    "    # Make a get request \n",
    "    response = requests.get(endpoint_url)\n",
    "\n",
    "    # Print the status code of the response.\n",
    "    status_code = response.status_code\n",
    "    if status_code == 200:\n",
    "        print('Hooray!!, it worked')\n",
    "        \n",
    "        # access the returned data\n",
    "        dict_obj_from_json = response.json()\n",
    "        print('Type: {}'.format(type(dict_obj_from_json)))\n",
    "        print('This is the nested dictionary returned: \\n {}'.format(dict_obj_from_json))\n",
    "        lat = dict_obj_from_json['iss_position']['latitude']\n",
    "        lon = dict_obj_from_json['iss_position']['longitude']\n",
    "        print('ISS is passing on Lat: {}, and Lon: {} right about now'.format(lat, lon))\n",
    "    else:\n",
    "        print('What happened, lets see the code we got: {}'.format(status_code))"
   ]
  },
  {
   "cell_type": "code",
   "execution_count": null,
   "metadata": {
    "colab": {
     "base_uri": "https://localhost:8080/"
    },
    "executionInfo": {
     "elapsed": 516,
     "status": "ok",
     "timestamp": 1675397180435,
     "user": {
      "displayName": "Michael Nana Kameni",
      "userId": "10368762142761029516"
     },
     "user_tz": 480
    },
    "id": "5kTLElRIy1ZM",
    "outputId": "009d6af7-a92f-4b24-b2d7-4fe6e117a8c4"
   },
   "outputs": [],
   "source": [
    "base_url = 'http://api.open-notify.org/'\n",
    "iss_pos = base_url + 'iss-now.json'\n",
    "request_iss_position(endpoint_url=iss_pos)"
   ]
  },
  {
   "cell_type": "code",
   "execution_count": null,
   "metadata": {
    "colab": {
     "base_uri": "https://localhost:8080/"
    },
    "executionInfo": {
     "elapsed": 3,
     "status": "ok",
     "timestamp": 1675397182738,
     "user": {
      "displayName": "Michael Nana Kameni",
      "userId": "10368762142761029516"
     },
     "user_tz": 480
    },
    "id": "eUTXnt5my1ZM",
    "outputId": "bc23a02c-783c-4d34-c2b5-7c8e27661ee5"
   },
   "outputs": [],
   "source": [
    "# Now, try to enter a wrong endpoint and see what happens\n",
    "iss_pos2 = base_url + 'iss-today.json'\n",
    "request_iss_position(endpoint_url=iss_pos2)"
   ]
  },
  {
   "cell_type": "markdown",
   "metadata": {
    "id": "gOZbdoOyy1ZN"
   },
   "source": [
    "# Accessing the Data\n",
    "Now, lets change our function so that we print the Latitude and Longitude of where ISS is right now."
   ]
  },
  {
   "cell_type": "code",
   "execution_count": null,
   "metadata": {
    "colab": {
     "base_uri": "https://localhost:8080/"
    },
    "executionInfo": {
     "elapsed": 1208,
     "status": "ok",
     "timestamp": 1676355892406,
     "user": {
      "displayName": "Michael Nana Kameni",
      "userId": "10368762142761029516"
     },
     "user_tz": -60
    },
    "id": "XnVOmqLey1ZN",
    "outputId": "9ddc5b09-a010-470b-eab8-a47e7902959f"
   },
   "outputs": [],
   "source": [
    "request_iss_position(endpoint_url='http://api.open-notify.org/iss-now.json')\n",
    "request_iss_position"
   ]
  },
  {
   "cell_type": "markdown",
   "metadata": {
    "id": "O2Y7O61ky1ZN"
   },
   "source": [
    "# EXERCISE-1:\n",
    "Using the same API, check how many Astronouts are in space right now?"
   ]
  },
  {
   "cell_type": "code",
   "execution_count": null,
   "metadata": {
    "code_folding": [
     0
    ],
    "colab": {
     "base_uri": "https://localhost:8080/",
     "height": 235
    },
    "executionInfo": {
     "elapsed": 486,
     "status": "error",
     "timestamp": 1675397797196,
     "user": {
      "displayName": "Michael Nana Kameni",
      "userId": "10368762142761029516"
     },
     "user_tz": 480
    },
    "id": "I5IDdQP3y1ZO",
    "outputId": "998a323a-a991-4848-d868-1714b950e26a"
   },
   "outputs": [],
   "source": [
    "# base-url is same as above\n",
    "# end point for this data: please check documentation\n",
    "num_astros = 'http://api.open-notify.org/astros.json'\n",
    "\n",
    "# full_url number of astronouts\n",
    "num_astros_url =\"http://api.open-notify.org/astros.json?callback=CALLBACK\" \n",
    " \n",
    "# Make request\n",
    "response = requests.get(num_astros_url)\n",
    "\n",
    "# Get data if response is 200\n",
    "if response.status_code == 200:\n",
    "    # Extract the dict object from the JSON response\n",
    "    res = response.json().loads(response)\n",
    "    \n",
    "    # please print the dict object above so you can inspect it and see how to retrieve the required data\n",
    "    print(res)\n",
    "    \n",
    "    # Get the number of people in spacw\n",
    "    #YOUR CODE\n",
    "    \n",
    "    # print number of people\n",
    "    #YOUR CODE"
   ]
  },
  {
   "cell_type": "markdown",
   "metadata": {
    "id": "WArb3fRky1ZO"
   },
   "source": [
    "# Accessing the Open Weather API\n",
    "## About the API\n",
    "You can read all about it [here](https://openweathermap.org). In summary, they provide weather data for cities across  the world. When you read the API documentation there are several things you need to be aware of and check as follows:\n",
    "1. How to get credentials to enable access to the API. We only need an API key in this case. Did you get yours?\n",
    "2. How to make API calls. What type of parameters are required to make and API call to this particular API. In this case, you will note that you will need location.\n",
    "3. What type of information is available\n",
    "4. Whats the cost of accessing the data. If free, are there any limits.\n",
    "\n",
    "## Potential Use Cases\n",
    "1. **A Weather app on a Smartphone.** Extract data from the API and use it on your app\n",
    "\n",
    "2. **Historical climate data analysisis for multiple cities.** With climate change being a big thing now, you may want to do analysis comparing weather information across multiple cities.\n",
    "\n",
    "The API has many versions and subscriptions plans but in our exercise, we will use their 2.5 version which is the one which doesnt require subscription."
   ]
  },
  {
   "cell_type": "code",
   "execution_count": 43,
   "metadata": {},
   "outputs": [
    {
     "name": "stderr",
     "output_type": "stream",
     "text": [
      "<>:1: SyntaxWarning: invalid escape sequence '\\D'\n",
      "<>:1: SyntaxWarning: invalid escape sequence '\\D'\n",
      "C:\\Users\\evariste.manirumva\\AppData\\Local\\Temp\\ipykernel_2972\\2533427561.py:1: SyntaxWarning: invalid escape sequence '\\D'\n",
      "  Image(\"D:\\Documents\\AIMS_DSCBI_Training\\AIMS-DSCBI\\docs\\images\\logo-aims.png\")\n"
     ]
    },
    {
     "data": {
      "image/png": "[encoded data removed]",
      "text/plain": [
       "<IPython.core.display.Image object>"
      ]
     },
     "execution_count": 43,
     "metadata": {},
     "output_type": "execute_result"
    }
   ],
   "source": [
    "Image(\"D:\\Documents\\AIMS_DSCBI_Training\\AIMS-DSCBI\\docs\\images\\logo-aims.png\")"
   ]
  },
  {
   "cell_type": "markdown",
   "metadata": {},
   "source": [
    "## Example Task: Get current weather data and forecasts for a given city or multiple cities\n",
    "Given a city name, lets get current weather data and forecasts and then save that information as a CSV file. \n",
    "We are only interested in the following variables:\n",
    "- **Weather:** temp, min and max temperature, humidity\n",
    "- **Other:** Date, with no time\n",
    "\n",
    "### Approach\n",
    "We will achieve this by defining three main functions:\n",
    "1. A small helper function to retrieve city ID from given city name just because using ID is easier than name\n",
    "2. A function to make thr API call and retrieve the weather data\n",
    "3. A function to take the returned data, put it into a pandas dataframe.\n",
    "4. A function putting everything together "
   ]
  },
  {
   "cell_type": "code",
   "execution_count": 37,
   "metadata": {
    "code_folding": [
     0
    ],
    "id": "OCai_fwxy1ZO"
   },
   "outputs": [],
   "source": [
    "def get_weather(base_url, category='forecast', api_key=None, city_id=None, lat=None, lon=None):\n",
    "    \"\"\"\n",
    "    Use request to make a get request to the open weather API\n",
    "    :param api_key: This is taken from the API documentation\n",
    "    :param category: Wether to get current weather, forecast or other type. Check API docs for details.\n",
    "    :param city_id: ID for the city we need taken from the city.list.json provided by the API\n",
    "    :param api_key: The API key you got from the API \n",
    "    :param lon: Longitude in case we want to use latitude and longitude\n",
    "    :param lat: Latitude in case we want to use latitude and longitude\n",
    "    \n",
    "    :return: A JSON oobject with the data\n",
    "    \"\"\"\n",
    "    # Create full_url based on whether we are using lat/lon, city ID\n",
    "    if city_id:\n",
    "        full_url = \"{}{}?id={}&APPID={}\".format(base_url, category, city_id, api_key)\n",
    "    \n",
    "    # use requests to retrieve data from the API\n",
    "    response = requests.get(full_url)\n",
    "\n",
    "    # retrieve JSON from the response object\n",
    "    if response.status_code == 200:\n",
    "        json_obj = response.json()\n",
    "    else:\n",
    "        print('Something went wrong, see error below')\n",
    "        print(response.status_code)\n",
    "\n",
    "    # return the JSON object\n",
    "    return json_obj"
   ]
  },
  {
   "cell_type": "code",
   "execution_count": 7,
   "metadata": {},
   "outputs": [],
   "source": [
    "def city_id_from_name(city_file, name):\n",
    "    \"\"\"\n",
    "    Retrieve city ID given city name\n",
    "    :param city_file: JSON file with list of city names and corresponding IDs provided by open weather API\n",
    "    :param name: Name of city which we want to retrieve ID for\n",
    "    :return: An integer representing city ID\n",
    "    \"\"\"\n",
    "    # Load JSON file\n",
    "    fopen = open(city_file, encoding=\"utf8\")\n",
    "    city_list = json.load(fopen)\n",
    "    \n",
    "    # Get city ID which matches with city name\n",
    "    for c in city_list:\n",
    "        if c['name'] == name:\n",
    "            return c['id'] "
   ]
  },
  {
   "cell_type": "code",
   "execution_count": 8,
   "metadata": {},
   "outputs": [],
   "source": [
    "def weather_json_to_pandas_df(weather_json):\n",
    "    \"\"\"\n",
    "    Converts the JSON with weather data into a pandas Dataframe\n",
    "    :param weather_json:The JSON object with weather information\n",
    "    :return: A pandas Dataframe\n",
    "    \"\"\"\n",
    "    \n",
    "    # using method for accessing a dictionary\n",
    "    # put weather items in a list\n",
    "    weather_items = weather_json['list']\n",
    "    \n",
    "    # save into a dataframe\n",
    "    data = []  # will hold our data\n",
    "    \n",
    "    for i in weather_items:\n",
    "        # get forecast time and truncate to date only\n",
    "        date_str = i['dt_txt'][:10]\n",
    "    \n",
    "        # get temperature, rain and humidity\n",
    "        temp = i['main']['temp']\n",
    "        temp_min = i['main']['temp_min']\n",
    "        temp_max = i['main']['temp_max']\n",
    "        hum = i['main']['humidity']\n",
    "    \n",
    "        data_item = {'Date': date_str, 'tempF': temp,'tempF_min': temp_min, \n",
    "                     'tempF_max': temp_min, 'humidity': hum}\n",
    "    \n",
    "        # append to list of create earlier on\n",
    "        data.append(data_item)\n",
    "    \n",
    "\n",
    "    # create dataframe\n",
    "    df = pd.DataFrame(data)\n",
    "    \n",
    "    return df"
   ]
  },
  {
   "cell_type": "code",
   "execution_count": 41,
   "metadata": {},
   "outputs": [],
   "source": [
    "def save_weather_data(city_name, csv_filename, city_list_file):\n",
    "    \"\"\"\n",
    "    Puts everything together and saves weather into CSV file\n",
    "    :param city_name: Target city name\n",
    "    :param csv_filename: Full path of CSV filen to save data\n",
    "    :param city_list_file: File containing city names and IDs\n",
    "    :return: Saves data into CSV\n",
    "    \"\"\"\n",
    "    # ==============================\n",
    "    # GET WEATHER DATA\n",
    "    # ==============================\n",
    "    # Retrieve city ID and get data\n",
    "    cityid = city_id_from_name(city_list_file, city_name)\n",
    "    print('City-ID for {} is {}'.format(city_name, cityid))\n",
    "    \n",
    "    weather_data = get_weather(base_url=BASE_URL, api_key=API_KEY,\n",
    "                           city_id=cityid)\n",
    "    \n",
    "    # Put data into Pandas Dataframe\n",
    "    df = weather_json_to_pandas_df(weather_json=weather_data)\n",
    "    \n",
    "    # Add city name \n",
    "    df['City'] = city_name\n",
    "    print()\n",
    "    print('First few rows of the data')\n",
    "    print(df.head())\n",
    "    \n",
    "    # Save data into CSV\n",
    "    df.to_csv(csv_filename, index=False)\n",
    "    \n",
    "    print()\n",
    "    print('Successfully Saved CSV file')\n",
    "    print(\"============================\")\n",
    "    \n",
    "    return df"
   ]
  },
  {
   "cell_type": "markdown",
   "metadata": {},
   "source": [
    "## Simple Request on Weather API Using City Name\n",
    "- ```BASE_URL: https://api.openweathermap.org/data/```\n",
    "-\n",
    "### Parameters:\n",
    "- version: 2.5 for free plans\n",
    "- category: weather \n",
    "    - weather (current weather by city)\n",
    "    - forecast (5-day forecast)\n",
    "- Location (city name, lat/lon, city id)\n",
    "- API key"
   ]
  },
  {
   "cell_type": "code",
   "execution_count": 22,
   "metadata": {},
   "outputs": [
    {
     "name": "stdout",
     "output_type": "stream",
     "text": [
      "John Doe\n"
     ]
    }
   ],
   "source": [
    "# string concatenation to create full URL\n",
    "# --- IGNORE ---\n",
    "first_name = \"John\"\n",
    "last_name = \"Doe\"\n",
    "full_name = first_name + \" \" + last_name\n",
    "full_name = \"{} {}\".format(first_name, last_name)\n",
    "print(full_name)"
   ]
  },
  {
   "cell_type": "code",
   "execution_count": 40,
   "metadata": {},
   "outputs": [
    {
     "name": "stdout",
     "output_type": "stream",
     "text": [
      "https://api.openweathermap.org/data/2.5/weather?q=Kigali&APPID=727c18f373649f4d8b3545ed4564afb0\n",
      "URL: https://api.openweathermap.org/data/2.5/weather?q=Kigali&APPID=727c18f373649f4d8b3545ed4564afb0\n",
      "Status: 200\n",
      "Body: {\"coord\":{\"lon\":30.0588,\"lat\":-1.95},\"weather\":[{\"id\":802,\"main\":\"Clouds\",\"description\":\"scattered clouds\",\"icon\":\"03d\"}],\"base\":\"stations\",\"main\":{\"temp\":299.86,\"feels_like\":300.14,\"temp_min\":299.86,\"temp_max\":299.86,\"pressure\":1010,\"humidity\":47,\"sea_level\":1010,\"grnd_level\":849},\"visibility\":10000,\"wind\":{\"speed\":2.57,\"deg\":130},\"clouds\":{\"all\":40},\"dt\":1758115628,\"sys\":{\"type\":1,\"id\":2594,\"country\":\"RW\",\"sunrise\":1758081081,\"sunset\":1758124644},\"timezone\":7200,\"id\":202061,\"name\":\"Kigali\",\"cod\":200}\n"
     ]
    }
   ],
   "source": [
    "# ========================================================\n",
    "# HARD CODE BASE INFORMAITON AND USE THEM AS GLOBAL VARS\n",
    "# ========================================================\n",
    "# Harcode base URL, we use the 2.5 version which seems to be the free version with no need to subscribe\n",
    "BASE_URL = \"https://api.openweathermap.org/data/2.5/\"\n",
    "\n",
    "API_KEY = os.getenv(\"OPENWEATHER_API_KEY\")\n",
    "\n",
    "\n",
    "# create full URL for current weather in Kigali\n",
    "# concatenatation strings is done here (base_url, category, city_name, API_KEY)\n",
    "category = 'weather'\n",
    "city_name = \"Kigali\"\n",
    "full_url = \"{}{}?q={}&APPID={}\".format(BASE_URL, category, city_name, API_KEY)\n",
    "print(full_url)\n",
    "\n",
    "\n",
    "# Send request\n",
    "response_w = requests.get(full_url, timeout=5)\n",
    "print(\"URL:\", response_w.url)\n",
    "print(\"Status:\", response_w.status_code)\n",
    "print(\"Body:\", response_w.text)  # if 401, body text is usually explicit\n"
   ]
  },
  {
   "cell_type": "code",
   "execution_count": null,
   "metadata": {},
   "outputs": [
    {
     "name": "stdout",
     "output_type": "stream",
     "text": [
      "{'coord': {'lon': 30.0588, 'lat': -1.95}, 'weather': [{'id': 500, 'main': 'Rain', 'description': 'light rain', 'icon': '10d'}], 'base': 'stations', 'main': {'temp': 299.86, 'feels_like': 300.3, 'temp_min': 299.86, 'temp_max': 299.86, 'pressure': 1010, 'humidity': 50, 'sea_level': 1010, 'grnd_level': 849}, 'visibility': 10000, 'wind': {'speed': 4.63, 'deg': 160}, 'rain': {'1h': 0.2}, 'clouds': {'all': 40}, 'dt': 1758114265, 'sys': {'type': 1, 'id': 2594, 'country': 'RW', 'sunrise': 1758081081, 'sunset': 1758124644}, 'timezone': 7200, 'id': 202061, 'name': 'Kigali', 'cod': 200}\n"
     ]
    },
    {
     "data": {
      "text/plain": [
       "({'temp': 299.86,\n",
       "  'feels_like': 300.3,\n",
       "  'temp_min': 299.86,\n",
       "  'temp_max': 299.86,\n",
       "  'pressure': 1010,\n",
       "  'humidity': 50,\n",
       "  'sea_level': 1010,\n",
       "  'grnd_level': 849},\n",
       " ['temp'])"
      ]
     },
     "execution_count": 32,
     "metadata": {},
     "output_type": "execute_result"
    }
   ],
   "source": [
    "# Get the data (weather for today in Kigali)\n",
    "weather_today_kigali = response_w.json()\n",
    "print(weather_today_kigali)\n",
    "\n",
    "#get elements of the dictionary data\n",
    "weather_today_kigali['main'],['temp']"
   ]
  },
  {
   "cell_type": "markdown",
   "metadata": {},
   "source": [
    "## Use Functions to Get 16 Days Forecast"
   ]
  },
  {
   "cell_type": "code",
   "execution_count": 42,
   "metadata": {},
   "outputs": [
    {
     "name": "stderr",
     "output_type": "stream",
     "text": [
      "<>:5: SyntaxWarning: invalid escape sequence '\\D'\n",
      "<>:6: SyntaxWarning: invalid escape sequence '\\D'\n",
      "<>:5: SyntaxWarning: invalid escape sequence '\\D'\n",
      "<>:6: SyntaxWarning: invalid escape sequence '\\D'\n",
      "C:\\Users\\evariste.manirumva\\AppData\\Local\\Temp\\ipykernel_2972\\3668548327.py:5: SyntaxWarning: invalid escape sequence '\\D'\n",
      "  city_json = \"D:\\Documents\\AIMS_DSCBI_Training\\AIMS-DSCBI\\data\\city.list.json\"\n",
      "C:\\Users\\evariste.manirumva\\AppData\\Local\\Temp\\ipykernel_2972\\3668548327.py:6: SyntaxWarning: invalid escape sequence '\\D'\n",
      "  out_csv = \"D:\\Documents\\AIMS_DSCBI_Training\\AIMS-DSCBI\\Output\\LL-weather.csv\"\n"
     ]
    },
    {
     "name": "stdout",
     "output_type": "stream",
     "text": [
      "City-ID for Kigali is 202061\n",
      "\n",
      "First few rows of the data\n",
      "         Date   tempF  tempF_min  tempF_max  humidity    City\n",
      "0  2025-09-17  297.34     292.29     292.29        59  Kigali\n",
      "1  2025-09-17  294.00     291.07     291.07        77  Kigali\n",
      "2  2025-09-17  290.89     290.89     290.89        92  Kigali\n",
      "3  2025-09-18  290.04     290.04     290.04        93  Kigali\n",
      "4  2025-09-18  289.44     289.44     289.44        93  Kigali\n",
      "\n",
      "Successfully Saved CSV file\n",
      "============================\n"
     ]
    }
   ],
   "source": [
    "# =======================================\n",
    "# GET WEATHER FORECAST DATA FOR LILONGWE\n",
    "# =======================================\n",
    "city = 'Kigali'\n",
    "city_json = \"D:\\Documents\\AIMS_DSCBI_Training\\AIMS-DSCBI\\data\\city.list.json\"\n",
    "out_csv = \"D:\\Documents\\AIMS_DSCBI_Training\\AIMS-DSCBI\\Output\\LL-weather.csv\"\n",
    "df_weather = save_weather_data(city_name=city, csv_filename=out_csv, city_list_file=city_json)"
   ]
  },
  {
   "cell_type": "markdown",
   "metadata": {
    "id": "eZknSpF3y1ZP"
   },
   "source": [
    "## EXERCISE-1: Instead of using city ID, lets use latitude and longitude to get the same information.\n",
    "\n",
    "### Task description:\n",
    "- Modify the ```get_weather()``` so that it takes in latitude and longitude and returns today's temperature in degress Celsius.\n",
    "- To test your function, get current weather data for 'lon': 30.1289, 'lat': -1.9695 and print out the **temperature, place name and country**. The result will look like screenshot below.\n",
    "\n",
    "### Tips:\n",
    "- Go to the API documentation to find out how to use lat and lon in the API call\n",
    "- Also, use the API documentation to check how to change the units "
   ]
  },
  {
   "cell_type": "markdown",
   "metadata": {},
   "source": [
    "# https://api.openweathermap.org/data/2.5/weather?lat={lat}&lon={lon}&appid={727c18f373649f4d8b3545ed4564afb0}"
   ]
  },
  {
   "cell_type": "code",
   "execution_count": null,
   "metadata": {},
   "outputs": [],
   "source": [
    "# =======================================\n",
    "# GET WEATHER FORECAST DATA FOR LILONGWE\n",
    "# =======================================\n",
    "city = 'Kigali'\n",
    "city_json = \"D:\\Documents\\AIMS_DSCBI_Training\\AIMS-DSCBI\\data\\city.list.json\"\n",
    "out_csv = \"D:\\Documents\\AIMS_DSCBI_Training\\AIMS-DSCBI\\Output\\LL-weather.csv\"\n",
    "df_weather = save_weather_data(city_name=city, csv_filename=out_csv, city_list_file=city_json)"
   ]
  }
 ],
 "metadata": {
  "colab": {
   "provenance": []
  },
  "kernelspec": {
   "display_name": "base",
   "language": "python",
   "name": "python3"
  },
  "language_info": {
   "codemirror_mode": {
    "name": "ipython",
    "version": 3
   },
   "file_extension": ".py",
   "mimetype": "text/x-python",
   "name": "python",
   "nbconvert_exporter": "python",
   "pygments_lexer": "ipython3",
   "version": "3.12.7"
  },
  "toc": {
   "base_numbering": 1,
   "nav_menu": {},
   "number_sections": false,
   "sideBar": true,
   "skip_h1_title": false,
   "title_cell": "Table of Contents",
   "title_sidebar": "Contents",
   "toc_cell": false,
   "toc_position": {},
   "toc_section_display": true,
   "toc_window_display": false
  }
 },
 "nbformat": 4,
 "nbformat_minor": 4
}
